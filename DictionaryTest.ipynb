{
 "cells": [
  {
   "cell_type": "code",
   "execution_count": 16,
   "metadata": {},
   "outputs": [],
   "source": [
    "from Tool import * # the tool scraping data from Google Sheet\n",
    "import random\n",
    "from random import sample\n",
    "from sklearn.utils import shuffle"
   ]
  },
  {
   "cell_type": "code",
   "execution_count": 17,
   "metadata": {},
   "outputs": [],
   "source": [
    "id_list = ['101S-DEzHcZYNDw1VZ7NRXD2nkJQfq2TT_zvH9_1zcfU', '19Sk7PWxUS3wkK7WIsyAShRWzk0RNwbS4680e9CIn9C4']\n",
    "range_list = ['list_1', 'list_2']"
   ]
  },
  {
   "cell_type": "code",
   "execution_count": 28,
   "metadata": {},
   "outputs": [
    {
     "name": "stdout",
     "output_type": "stream",
     "text": [
      "Enter the number of the list: 2\n"
     ]
    }
   ],
   "source": [
    "choice = int(input('Enter the number of the list: '))"
   ]
  },
  {
   "cell_type": "code",
   "execution_count": 29,
   "metadata": {},
   "outputs": [],
   "source": [
    "SPREADSHEET_ID = id_list[choice - 1]\n",
    "RANGE_NAME = range_list[choice - 1]"
   ]
  },
  {
   "cell_type": "code",
   "execution_count": 30,
   "metadata": {},
   "outputs": [
    {
     "name": "stdout",
     "output_type": "stream",
     "text": [
      "Spreadsheet ID: 19Sk7PWxUS3wkK7WIsyAShRWzk0RNwbS4680e9CIn9C4\n",
      "Sheet name: list_2\n"
     ]
    }
   ],
   "source": [
    "print('Spreadsheet ID:', SPREADSHEET_ID)\n",
    "print('Sheet name:', RANGE_NAME)"
   ]
  },
  {
   "cell_type": "code",
   "execution_count": 31,
   "metadata": {},
   "outputs": [
    {
     "name": "stdout",
     "output_type": "stream",
     "text": [
      "21 words retrieved successfully!\n"
     ]
    }
   ],
   "source": [
    "gsheet = get_google_sheet(SPREADSHEET_ID, RANGE_NAME)\n",
    "df = gsheet2df(gsheet)\n",
    "print('{} words retrieved successfully!'.format(df.shape[0]))"
   ]
  },
  {
   "cell_type": "code",
   "execution_count": 32,
   "metadata": {},
   "outputs": [],
   "source": [
    "df.to_csv('csv/list_{}.csv'.format(choice), encoding='utf-8', index=False)"
   ]
  },
  {
   "cell_type": "code",
   "execution_count": 33,
   "metadata": {},
   "outputs": [
    {
     "name": "stdout",
     "output_type": "stream",
     "text": [
      "21 words retrieved successfully!\n"
     ]
    }
   ],
   "source": [
    "word_list = []\n",
    "for num in range(df.shape[0]):\n",
    "    word_list.append(list(df.iloc[num]))\n",
    "    \n",
    "print('{} words retrieved successfully!'.format(len(word_list)))\n",
    "\n",
    "\n",
    "# generate all words in the list in random order\n",
    "rand_list = []\n",
    "rand_num = random.sample(range(0,len(word_list)), len(word_list))\n",
    "for num in rand_num:\n",
    "    rand_list.append(word_list[num])"
   ]
  },
  {
   "cell_type": "code",
   "execution_count": 36,
   "metadata": {},
   "outputs": [
    {
     "data": {
      "text/plain": [
       "[['censure', 'F', '批评', 'v. to find fault with and criticize as blameworthy'],\n",
       " ['dwindle', 'F', '减少，下降', 'v. to gradually become smaller'],\n",
       " ['fulminate', 'F', '抨击，辱骂', 'v. to utter or send out with denunciation'],\n",
       " ['underrate',\n",
       "  'F',\n",
       "  '低估',\n",
       "  'v. to rate or value (someone or something) too low'],\n",
       " ['peripatetic', 'F', '巡游', 'adj. itinerant'],\n",
       " ['fervent',\n",
       "  'F',\n",
       "  '情感强烈的，热烈的',\n",
       "  'adj. exhibiting or marked by great intensity of feeling'],\n",
       " ['alleviate', 'F', '减轻', 'v. to reduce the pain or trouble of'],\n",
       " ['contagious', 'F', '传染的', 'adj. communicable by contact'],\n",
       " ['incursion', 'F', '侵入，侵犯', 'n. a hostile entrance into a territory'],\n",
       " ['diffuse', 'T', '分散的', 'adj. spread out over a large space'],\n",
       " ['inhibit', 'F', '抑制，限制', 'v. to hold in check'],\n",
       " ['unwieldy',\n",
       "  'F',\n",
       "  '体积庞大而笨重的',\n",
       "  'adj. difficult to handle, control, or deal with because of being large, heavy, or complex'],\n",
       " ['sterling', 'F', '高质量的', 'adj. conforming to the highest standard'],\n",
       " ['prying',\n",
       "  'F',\n",
       "  '窥视的',\n",
       "  \"adj. trying to find out about people's private lives\"],\n",
       " ['obseisance', 'F', '尊敬，敬意', 'n. respect for someone or something'],\n",
       " ['vociferous',\n",
       "  'F',\n",
       "  '吵吵嚷嚷的',\n",
       "  'adj. expressing feelings or opinions in a very loud or forceful way '],\n",
       " ['stringent', 'F', '非常严格的', 'adj. very strict or serve'],\n",
       " ['profess', 'F', '宣称', 'v. to say or declare (something) openly'],\n",
       " ['voluble',\n",
       "  'F',\n",
       "  '健谈的，话多的',\n",
       "  'adj. talking a lot in an energetic and rapid way'],\n",
       " ['pedantic',\n",
       "  'F',\n",
       "  '卖弄知识的',\n",
       "  'adj. narrowly, stodgily, and often ostentatiously learned'],\n",
       " ['surmount', 'F', '克服，战胜', 'v. to prevail over']]"
      ]
     },
     "execution_count": 36,
     "metadata": {},
     "output_type": "execute_result"
    }
   ],
   "source": [
    "rand_list"
   ]
  },
  {
   "cell_type": "code",
   "execution_count": null,
   "metadata": {},
   "outputs": [],
   "source": [
    "def search():\n",
    "\tword = input('Enter the vocabulary you want to search: ').lower()\n",
    "\n",
    "\tif word in [l[0] for l in rand_list]:\n",
    "\t\trow = df[df['word'] == word]\n",
    "\t\tindex = [l[0] for l in rand_list].index(word)\n",
    "\t\tprint()\n",
    "\t\tprint(word + '\\n')\n",
    "\t\tprint('Knew the word before: {}'.format(rand_list[index][1]))\n",
    "\t\tprint('Chinese meaning: {}'.format(rand_list[index][2]))\n",
    "\t\tprint('English meaning: {}'.format(rand_list[index][3]))\n",
    "\telse:\n",
    "\t\tprint('Error: {} not in list_1'.format(word))\n",
    "\t\tsearch()"
   ]
  },
  {
   "cell_type": "code",
   "execution_count": null,
   "metadata": {},
   "outputs": [],
   "source": [
    "search()"
   ]
  },
  {
   "cell_type": "code",
   "execution_count": null,
   "metadata": {},
   "outputs": [],
   "source": []
  }
 ],
 "metadata": {
  "kernelspec": {
   "display_name": "Python 3",
   "language": "python",
   "name": "python3"
  },
  "language_info": {
   "codemirror_mode": {
    "name": "ipython",
    "version": 3
   },
   "file_extension": ".py",
   "mimetype": "text/x-python",
   "name": "python",
   "nbconvert_exporter": "python",
   "pygments_lexer": "ipython3",
   "version": "3.6.6"
  }
 },
 "nbformat": 4,
 "nbformat_minor": 2
}

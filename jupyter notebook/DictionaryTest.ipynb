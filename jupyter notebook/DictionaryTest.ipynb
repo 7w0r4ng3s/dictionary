{
 "cells": [
  {
   "cell_type": "code",
   "execution_count": 75,
   "metadata": {},
   "outputs": [],
   "source": [
    "from Word import Word # the word class including word functions\n",
    "from Tool import * # the tool scraping data from Google Sheet\n",
    "import random\n",
    "from random import sample"
   ]
  },
  {
   "cell_type": "code",
   "execution_count": 41,
   "metadata": {},
   "outputs": [
    {
     "name": "stdout",
     "output_type": "stream",
     "text": [
      "Dataframe size =  (61, 4)\n",
      "           word familarity    cn_meaning  \\\n",
      "0       divulge          F            泄漏   \n",
      "1  inadvertent           F  粗心的，不留意的不故意的   \n",
      "2     panegyric          F         赞文；赞美   \n",
      "3    draconian           F         极其严苛的   \n",
      "4   hodgepodge           F        混杂，混合物   \n",
      "\n",
      "                                             meaning  \n",
      "0     v. to make known (something private or secret)  \n",
      "1  adj. marked by or resulting from carelessness;...  \n",
      "2  n. a formal eulogistic composition intended as...  \n",
      "3              adj. exceedingly harsh or very severe  \n",
      "4                   n. a mixture of different things  \n"
     ]
    }
   ],
   "source": [
    "gsheet = get_google_sheet(SPREADSHEET_ID, RANGE_NAME)\n",
    "df = gsheet2df(gsheet)\n",
    "print('Dataframe size = ', df.shape)\n",
    "print(df.head())"
   ]
  },
  {
   "cell_type": "code",
   "execution_count": 42,
   "metadata": {},
   "outputs": [],
   "source": [
    "# the word list to store all words, familarity, cn_meaning, meaning\n",
    "word_list = []\n",
    "for num in range(df.shape[0]):\n",
    "    word_list.append(list(df.iloc[num]))"
   ]
  },
  {
   "cell_type": "code",
   "execution_count": 48,
   "metadata": {},
   "outputs": [
    {
     "name": "stdout",
     "output_type": "stream",
     "text": [
      "61 words retrieved successfully\n"
     ]
    }
   ],
   "source": [
    "print('{} words retrieved successfully'.format(len(word_list)))"
   ]
  },
  {
   "cell_type": "code",
   "execution_count": 84,
   "metadata": {},
   "outputs": [
    {
     "data": {
      "text/plain": [
       "[25,\n",
       " 55,\n",
       " 44,\n",
       " 36,\n",
       " 26,\n",
       " 49,\n",
       " 42,\n",
       " 45,\n",
       " 2,\n",
       " 10,\n",
       " 28,\n",
       " 4,\n",
       " 16,\n",
       " 58,\n",
       " 51,\n",
       " 50,\n",
       " 33,\n",
       " 31,\n",
       " 35,\n",
       " 38,\n",
       " 0,\n",
       " 52,\n",
       " 43,\n",
       " 20,\n",
       " 19,\n",
       " 29,\n",
       " 3,\n",
       " 56,\n",
       " 12,\n",
       " 5,\n",
       " 47,\n",
       " 23,\n",
       " 59,\n",
       " 40,\n",
       " 32,\n",
       " 21,\n",
       " 13,\n",
       " 46,\n",
       " 27,\n",
       " 6,\n",
       " 22,\n",
       " 37,\n",
       " 48,\n",
       " 34,\n",
       " 60,\n",
       " 17,\n",
       " 9,\n",
       " 54,\n",
       " 15,\n",
       " 53,\n",
       " 11,\n",
       " 39,\n",
       " 1,\n",
       " 7,\n",
       " 18,\n",
       " 30,\n",
       " 57,\n",
       " 24,\n",
       " 8,\n",
       " 14,\n",
       " 41]"
      ]
     },
     "execution_count": 84,
     "metadata": {},
     "output_type": "execute_result"
    }
   ],
   "source": [
    "rand_num = random.sample(range(0,61), 61)\n",
    "rand_num"
   ]
  },
  {
   "cell_type": "code",
   "execution_count": 85,
   "metadata": {},
   "outputs": [
    {
     "name": "stdout",
     "output_type": "stream",
     "text": [
      "['aimless', 'T', '漫无目的的', 'adj. not having a goal or purpose']\n",
      "['examplar', 'F', '典型', 'n. a typical example']\n",
      "['self-serving', 'T', '自私的', 'adj. having or showing concern only about your own needs and interests']\n",
      "['sardonic', 'F', '嘲讽的，讥笑的', 'adj. scornfully or cynically mocking']\n",
      "['ingenuous', 'F', '纯朴的，真诚的 ', 'adj. having or showing the innocence, trust, and honesty that young people often have']\n",
      "['magisterial', 'F', '权威的', 'adj. authoritative']\n",
      "['redicule', 'F', '嘲笑，耻笑', 'v. to laugh at and make jokes about']\n",
      "['perishable', 'F', '易消亡的，短暂的', 'adj. likely to spoil or decay quickly']\n",
      "['panegyric', 'F', '赞文；赞美', 'n. a formal eulogistic composition intended as a public compliment']\n",
      "['compensate', 'T', '弥补', 'v. to offset an error, defect, or undesired effect']\n",
      "['inevitable', 'T', '不可避免的，一定发生的', 'adj. sure to happen']\n",
      "['hodgepodge ', 'F', '混杂，混合物', 'n. a mixture of different things']\n",
      "['zealous', 'T', '对（某人或偶像）狂热的', 'adj. marked by fervent partisanship for a person, a cause, or an ideal']\n",
      "['extirpate', 'F', '根除', 'v. to destroy or remove completely']\n",
      "['sleek', 'F', '光滑的', 'adj. straight and smooth in design or shape']\n",
      "['chauvinstic', 'F', '极端爱国的', 'adj. believing that your country is better than any other']\n",
      "['affable', 'F', '和蔼可亲的', 'adj. easy and pleasant to speak to']\n",
      "['inveterate', 'F', '根深蒂固的', 'adj. firmly and long established; deep-rooted']\n",
      "['tenacious', 'F', '坚定的', 'adj. very determined to do something']\n",
      "['legitimate', 'T', '合法的', 'adj. being in compliance with the law']\n",
      "['divulge', 'F', '泄漏', 'v. to make known (something private or secret)']\n",
      "['astringent', 'F', '严厉的，尖刻的', 'adj. very critical in a sharp and often clever way']\n",
      "['undermine', 'T', '削弱', 'v. to make (someone or something) weaker or less affective']\n",
      "['compound', 'T', '混合，合成', 'v. to form by combining seperate things']\n",
      "['perfunctory', 'F', '不走心的，敷衍草率的', 'adj. acting with indifference, showing little interest or care']\n",
      "['intransigent', 'F', '不妥协的，固执的', 'adj. completely unwilling to change']\n",
      "['draconian ', 'F', '极其严苛的', 'adj. exceedingly harsh or very severe']\n",
      "['grudge', 'F', '不愿给予或承认', 'v. to be unwillingly to give or admit']\n",
      "['presuppose', 'T', '预先假设', 'v. to suppose beforehand']\n",
      "['incontrovertible ', 'F', '不容置疑的', 'adj. impossible to dispute']\n",
      "['egotism', 'T', '自大', \"n. an infalted sense of one's own importance\"]\n",
      "['unbounded', 'T', '不受限制的', 'adj. not limited in any way']\n",
      "['parity', 'F', '平等', 'n. equality']\n",
      "['disavow', 'F', '否认', 'v. to say that you are not responsible for']\n",
      "['backhanded', 'F', '不直接的', 'adj. oblique or indirect']\n",
      "['envy', 'T', '嫉妒', 'v. to feel a desire to have what someone else does']\n",
      "['intermediary', 'F', '（作为）中间人（的）', 'n. / adj. acting as a mediator']\n",
      "['carpricious', 'F', '变化多端的', 'adj. changing often and quickly']\n",
      "['intrinsic', 'T', '核心的，内在的', 'adj. belonging to the essential nature of a thing']\n",
      "['impartial ', 'T', '公正的，不偏不倚的', 'adj. not partial or biased']\n",
      "['defensive', 'T', '被动防守的，防御的', 'adj. in a situation which you are forced to defend or protect someone or something']\n",
      "['skullduggery', 'F', '欺骗，作假', 'adj. secret or dishonest behavior or activity']\n",
      "['unqualified', 'T', '完全的', 'adj. complete or total']\n",
      "['whimsy', 'F', '突发奇想', 'n. an unusual, unexpected, or fanciful idea']\n",
      "['utilitarian', 'F', '实用的', 'adj. made to be useful rather than to be decorative or comfortable']\n",
      "['extraneous', 'F', '不重要的，不相关的', 'adj. not important']\n",
      "['lucrative', 'F', '盈利的，赚钱的', 'adj. producing wealth']\n",
      "['ameliorate', 'F', '改善，提升', 'v. to make better or more tolerable']\n",
      "['overbearing', 'F', '专横傲慢的', 'adj. often trying to control the behavior of other people in an annoying or unwanted way']\n",
      "['ambivalent', 'F', '（情感，态度）矛盾的', 'adj. simultaneous and contradictory attitudes or feelings toward an object, person, or action']\n",
      "['discursive', 'F', '杂乱无章的', 'adj. moving from topic to topic without order; rambling']\n",
      "['plagiarize', 'T', '抄袭', \"v. to reproduce or otherwise use as one's own\"]\n",
      "['inadvertent ', 'F', '粗心的，不留意的不故意的', 'adj. marked by or resulting from carelessness; negligent']\n",
      "['endemic', 'F', '地方性的，流行的', 'adj. prevalent in or limited to a particular locality, region, or people']\n",
      "['rehash', 'F', '（没有实质改变地）重提', 'v. to bring forth again in another form without significant alteration']\n",
      "['detached', 'F', '不受感情影响的， 公正的', 'adj. not influenced by emotions or personal interest']\n",
      "['sweeping', 'F', '广泛的', 'adj. extensive']\n",
      "['specious', 'F', '似是而非的', 'adj. falsely appearing to be right']\n",
      "['minuscule ', 'F', '微小的', 'adj. very small and tiny']\n",
      "['derogate', 'F', '贬低', 'v. to cause to seem inferior']\n",
      "['deplete', 'F', '耗尽', 'v. to use most of all of']\n"
     ]
    }
   ],
   "source": [
    "for num in rand_num:\n",
    "    print(word_list[num])"
   ]
  },
  {
   "cell_type": "code",
   "execution_count": null,
   "metadata": {},
   "outputs": [],
   "source": []
  }
 ],
 "metadata": {
  "kernelspec": {
   "display_name": "Python 3",
   "language": "python",
   "name": "python3"
  },
  "language_info": {
   "codemirror_mode": {
    "name": "ipython",
    "version": 3
   },
   "file_extension": ".py",
   "mimetype": "text/x-python",
   "name": "python",
   "nbconvert_exporter": "python",
   "pygments_lexer": "ipython3",
   "version": "3.6.6"
  }
 },
 "nbformat": 4,
 "nbformat_minor": 2
}

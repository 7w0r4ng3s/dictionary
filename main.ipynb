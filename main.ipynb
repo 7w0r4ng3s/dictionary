{
 "cells": [
  {
   "cell_type": "code",
   "execution_count": 1,
   "metadata": {},
   "outputs": [],
   "source": [
    "from WordTool import *\n",
    "from Merge import *"
   ]
  },
  {
   "cell_type": "code",
   "execution_count": 2,
   "metadata": {},
   "outputs": [
    {
     "name": "stdout",
     "output_type": "stream",
     "text": [
      "Enter the vocabulary you want to search: ous\n",
      "\n",
      "Do you mean: \n",
      "1 contagious\n",
      "2 vociferous\n",
      "3 arduous\n",
      "4 zealous\n",
      "5 extraneous\n",
      "6 specious\n",
      "7 ingenuous\n",
      "8 tenacious\n",
      "9 capricious\n",
      "10 efficacious\n",
      "\n",
      "Enter the index: 4\n",
      "\n",
      "zealous\n",
      "Knew the word before: T\n",
      "Chinese meaning: 对（某人或偶像）狂热的\n",
      "English meaning: adj. marked by fervent partisanship for a person, a cause, or an ideal\n"
     ]
    }
   ],
   "source": [
    "search()"
   ]
  },
  {
   "cell_type": "code",
   "execution_count": 3,
   "metadata": {},
   "outputs": [
    {
     "name": "stdout",
     "output_type": "stream",
     "text": [
      "Options\n",
      "1 Add Google Sheet \n",
      "2 Merge List\n",
      "\n",
      "Type the number to proceed: 2\n",
      "Enter the number of the list you wish to merge into the database: 2\n",
      "---------- List Info ----------\n",
      "list_2\n",
      "Spreadsheet ID: 19Sk7PWxUS3wkK7WIsyAShRWzk0RNwbS4680e9CIn9C4\n",
      "Sheet name: list_2\n",
      "\n",
      "---------- Retrieving Word List ----------\n",
      "Waiting...\n",
      "43 words retrieved successfully!\n"
     ]
    }
   ],
   "source": [
    "merge_list()"
   ]
  },
  {
   "cell_type": "code",
   "execution_count": null,
   "metadata": {},
   "outputs": [],
   "source": []
  }
 ],
 "metadata": {
  "kernelspec": {
   "display_name": "Python 3",
   "language": "python",
   "name": "python3"
  },
  "language_info": {
   "codemirror_mode": {
    "name": "ipython",
    "version": 3
   },
   "file_extension": ".py",
   "mimetype": "text/x-python",
   "name": "python",
   "nbconvert_exporter": "python",
   "pygments_lexer": "ipython3",
   "version": "3.6.6"
  }
 },
 "nbformat": 4,
 "nbformat_minor": 2
}

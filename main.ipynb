{
 "cells": [
  {
   "cell_type": "code",
   "execution_count": 2,
   "metadata": {},
   "outputs": [],
   "source": [
    "from WordTool import *\n",
    "from Merge import *"
   ]
  },
  {
   "cell_type": "code",
   "execution_count": 3,
   "metadata": {},
   "outputs": [
    {
     "name": "stdout",
     "output_type": "stream",
     "text": [
      "Enter the vocabulary you want to search: ch\n",
      "\n",
      "Do you mean: \n",
      "1 pastiche\n",
      "2 detached\n",
      "3 chauvinstic\n",
      "4 inchoate\n",
      "\n",
      "Enter the index: 3\n",
      "\n",
      "chauvinstic\n",
      "Knew the word before: F\n",
      "Chinese meaning: 极端爱国的\n",
      "English meaning: adj. believing that your country is better than any other\n"
     ]
    }
   ],
   "source": [
    "search()"
   ]
  },
  {
   "cell_type": "code",
   "execution_count": 4,
   "metadata": {},
   "outputs": [
    {
     "name": "stdout",
     "output_type": "stream",
     "text": [
      "Options\n",
      "1 Add Google Sheet \n",
      "2 Merge List\n",
      "Type the number to proceed: \n"
     ]
    }
   ],
   "source": [
    "merge_list()"
   ]
  },
  {
   "cell_type": "code",
   "execution_count": null,
   "metadata": {},
   "outputs": [],
   "source": []
  }
 ],
 "metadata": {
  "kernelspec": {
   "display_name": "Python 3",
   "language": "python",
   "name": "python3"
  },
  "language_info": {
   "codemirror_mode": {
    "name": "ipython",
    "version": 3
   },
   "file_extension": ".py",
   "mimetype": "text/x-python",
   "name": "python",
   "nbconvert_exporter": "python",
   "pygments_lexer": "ipython3",
   "version": "3.6.7"
  }
 },
 "nbformat": 4,
 "nbformat_minor": 2
}

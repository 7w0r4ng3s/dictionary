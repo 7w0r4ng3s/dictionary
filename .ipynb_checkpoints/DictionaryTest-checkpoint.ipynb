{
 "cells": [
  {
   "cell_type": "code",
   "execution_count": 14,
   "metadata": {},
   "outputs": [],
   "source": [
    "from get_sheet import * # the tool scraping data from Google Sheet\n",
    "import random\n",
    "from random import sample\n",
    "from sklearn.utils import shuffle\n",
    "import pandas as pd\n",
    "import glob\n",
    "import os"
   ]
  },
  {
   "cell_type": "code",
   "execution_count": 15,
   "metadata": {},
   "outputs": [],
   "source": [
    "id_list = ['101S-DEzHcZYNDw1VZ7NRXD2nkJQfq2TT_zvH9_1zcfU', '19Sk7PWxUS3wkK7WIsyAShRWzk0RNwbS4680e9CIn9C4']\n",
    "range_list = ['list_1', 'list_2']"
   ]
  },
  {
   "cell_type": "code",
   "execution_count": 16,
   "metadata": {},
   "outputs": [
    {
     "name": "stdout",
     "output_type": "stream",
     "text": [
      "Enter the number of the list: 2\n"
     ]
    }
   ],
   "source": [
    "# prompt user the number of the target list\n",
    "choice = int(input('Enter the number of the list: '))"
   ]
  },
  {
   "cell_type": "code",
   "execution_count": 17,
   "metadata": {},
   "outputs": [
    {
     "name": "stdout",
     "output_type": "stream",
     "text": [
      "---------- List Info ----------\n",
      "Spreadsheet ID: 19Sk7PWxUS3wkK7WIsyAShRWzk0RNwbS4680e9CIn9C4\n",
      "Sheet name: list_2\n"
     ]
    }
   ],
   "source": [
    "SPREADSHEET_ID = id_list[choice - 1]\n",
    "RANGE_NAME = range_list[choice - 1]\n",
    "print('---------- List Info ----------')\n",
    "print('Spreadsheet ID:', SPREADSHEET_ID)\n",
    "print('Sheet name:', RANGE_NAME)"
   ]
  },
  {
   "cell_type": "code",
   "execution_count": 18,
   "metadata": {},
   "outputs": [
    {
     "name": "stdout",
     "output_type": "stream",
     "text": [
      "Waiting...\n",
      "43 words retrieved successfully!\n"
     ]
    }
   ],
   "source": [
    "print('Waiting...')\n",
    "gsheet = get_google_sheet(SPREADSHEET_ID, RANGE_NAME)\n",
    "df = gsheet2df(gsheet)\n",
    "print('{} words retrieved successfully!'.format(df.shape[0]))"
   ]
  },
  {
   "cell_type": "code",
   "execution_count": 19,
   "metadata": {},
   "outputs": [],
   "source": [
    "df.to_csv('csv/list_{}.csv'.format(choice), encoding='utf-8', index=False)"
   ]
  },
  {
   "cell_type": "code",
   "execution_count": 20,
   "metadata": {},
   "outputs": [
    {
     "name": "stdout",
     "output_type": "stream",
     "text": [
      "43 words retrieved successfully!\n"
     ]
    }
   ],
   "source": [
    "word_list = []\n",
    "for num in range(df.shape[0]):\n",
    "    word_list.append(list(df.iloc[num]))\n",
    "    \n",
    "print('{} words retrieved successfully!'.format(len(word_list)))\n",
    "\n",
    "# generate all words in the list in random order\n",
    "rand_list = []\n",
    "rand_num = random.sample(range(0,len(word_list)), len(word_list))\n",
    "for num in rand_num:\n",
    "    rand_list.append(word_list[num])"
   ]
  },
  {
   "cell_type": "code",
   "execution_count": 22,
   "metadata": {},
   "outputs": [],
   "source": [
    "def search():\n",
    "    # TODO: move the search method to WordTool.py\n",
    "\tword = input('Enter the vocabulary you want to search: ').lower()\n",
    "\n",
    "\tif word in [l[0] for l in rand_list]:\n",
    "\t\trow = df[df['word'] == word]\n",
    "\t\tindex = [l[0] for l in rand_list].index(word)\n",
    "\t\tprint()\n",
    "\t\tprint(word + '\\n')\n",
    "\t\tprint('Knew the word before: {}'.format(rand_list[index][1]))\n",
    "\t\tprint('Chinese meaning: {}'.format(rand_list[index][2]))\n",
    "\t\tprint('English meaning: {}'.format(rand_list[index][3]))\n",
    "\telse:\n",
    "\t\tprint('Error: {} not in list_1'.format(word))\n",
    "\t\tsearch()"
   ]
  },
  {
   "cell_type": "code",
   "execution_count": 23,
   "metadata": {},
   "outputs": [],
   "source": [
    "def merge():\n",
    "    # locate the directory of all the lists\n",
    "    os.chdir('/Users/7w0r4ng3s/Desktop/Dictionary/csv')\n",
    "    results = pd.DataFrame([])\n",
    "    \n",
    "    # merging all list by append them to a single dataframe\n",
    "    for counter, file in enumerate(glob.glob(\"list_*\")):\n",
    "        namedf = pd.read_csv(file, skiprows=0, usecols=[0,1,2,3])\n",
    "        results = results.append(namedf)\n",
    "    # convert the dataframe to a new csv file in the same directory\n",
    "    # the new csv file containing all words will serve as a database\n",
    "    results.reset_index(drop=True).to_csv('/Users/7w0r4ng3s/Desktop/Dictionary/csv/words.csv')"
   ]
  },
  {
   "cell_type": "code",
   "execution_count": null,
   "metadata": {},
   "outputs": [],
   "source": []
  }
 ],
 "metadata": {
  "kernelspec": {
   "display_name": "Python 3",
   "language": "python",
   "name": "python3"
  },
  "language_info": {
   "codemirror_mode": {
    "name": "ipython",
    "version": 3
   },
   "file_extension": ".py",
   "mimetype": "text/x-python",
   "name": "python",
   "nbconvert_exporter": "python",
   "pygments_lexer": "ipython3",
   "version": "3.6.6"
  }
 },
 "nbformat": 4,
 "nbformat_minor": 2
}

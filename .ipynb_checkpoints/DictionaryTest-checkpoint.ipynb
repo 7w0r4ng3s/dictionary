{
 "cells": [
  {
   "cell_type": "code",
   "execution_count": null,
   "metadata": {},
   "outputs": [],
   "source": [
    "from get_sheet import * # the tool scraping data from Google Sheet\n",
    "import pandas as pd\n",
    "import glob\n",
    "import os\n",
    "from WordTool import *"
   ]
  },
  {
   "cell_type": "code",
   "execution_count": null,
   "metadata": {},
   "outputs": [],
   "source": [
    "id_list = ['101S-DEzHcZYNDw1VZ7NRXD2nkJQfq2TT_zvH9_1zcfU', '19Sk7PWxUS3wkK7WIsyAShRWzk0RNwbS4680e9CIn9C4']\n",
    "range_list = ['list_1', 'list_2']"
   ]
  },
  {
   "cell_type": "code",
   "execution_count": null,
   "metadata": {},
   "outputs": [],
   "source": [
    "# prompt user the number of the target list\n",
    "choice = int(input('Enter the number of the list: '))"
   ]
  },
  {
   "cell_type": "code",
   "execution_count": null,
   "metadata": {},
   "outputs": [],
   "source": [
    "SPREADSHEET_ID = id_list[choice - 1]\n",
    "RANGE_NAME = range_list[choice - 1]\n",
    "print('---------- List Info ----------')\n",
    "print('Spreadsheet ID:', SPREADSHEET_ID)\n",
    "print('Sheet name:', RANGE_NAME)"
   ]
  },
  {
   "cell_type": "code",
   "execution_count": null,
   "metadata": {},
   "outputs": [],
   "source": [
    "print('---------- Retrieve Word List ----------')\n",
    "print('Waiting...')\n",
    "gsheet = get_google_sheet(SPREADSHEET_ID, RANGE_NAME)\n",
    "df = gsheet2df(gsheet)\n",
    "print('{} words retrieved successfully!'.format(df.shape[0]))"
   ]
  },
  {
   "cell_type": "code",
   "execution_count": null,
   "metadata": {},
   "outputs": [],
   "source": [
    "df.to_csv('csv/list_{}.csv'.format(choice), encoding='utf-8', index=False)"
   ]
  },
  {
   "cell_type": "code",
   "execution_count": null,
   "metadata": {},
   "outputs": [],
   "source": [
    "os.chdir('/Users/7w0r4ng3s/Desktop/Dictionary/csv')\n",
    "results = pd.DataFrame([])\n",
    "    \n",
    "# merging all list by append them to a single dataframe\n",
    "for counter, file in enumerate(glob.glob(\"list_*\")):\n",
    "    namedf = pd.read_csv(file, skiprows=0, usecols=[0,1,2,3])\n",
    "    results = results.append(namedf)\n",
    "\n",
    "# convert the dataframe to a new csv file in the same directory\n",
    "# the new csv file containing all words will serve as a database\n",
    "results.reset_index(drop=True).to_csv('/Users/7w0r4ng3s/Desktop/Dictionary/csv/words.csv')"
   ]
  },
  {
   "cell_type": "code",
   "execution_count": null,
   "metadata": {},
   "outputs": [],
   "source": []
  }
 ],
 "metadata": {
  "kernelspec": {
   "display_name": "Python 3",
   "language": "python",
   "name": "python3"
  },
  "language_info": {
   "codemirror_mode": {
    "name": "ipython",
    "version": 3
   },
   "file_extension": ".py",
   "mimetype": "text/x-python",
   "name": "python",
   "nbconvert_exporter": "python",
   "pygments_lexer": "ipython3",
   "version": "3.6.6"
  }
 },
 "nbformat": 4,
 "nbformat_minor": 2
}
